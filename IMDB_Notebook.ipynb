{
 "cells": [
  {
   "cell_type": "markdown",
   "metadata": {
    "id": "8epBtCQV7OYg"
   },
   "source": [
    "# Introduction\n",
    "\n",
    "The puprpose of this projects is to do sentiment analysis of IMDB reviews in multiple ways. After building a some models we will choose the best model and we will build a web application that will scan for IMDB reviews of a movie and then rate the movie according to the model.  "
   ]
  },
  {
   "cell_type": "code",
   "execution_count": 1,
   "metadata": {
    "executionInfo": {
     "elapsed": 4896,
     "status": "ok",
     "timestamp": 1698835032727,
     "user": {
      "displayName": "עידו שמי",
      "userId": "02903827395113272265"
     },
     "user_tz": -120
    },
    "id": "F8tK1DOB8I9p"
   },
   "outputs": [
    {
     "name": "stderr",
     "output_type": "stream",
     "text": [
      "2023-11-04 14:53:25.387911: I tensorflow/core/util/port.cc:111] oneDNN custom operations are on. You may see slightly different numerical results due to floating-point round-off errors from different computation orders. To turn them off, set the environment variable `TF_ENABLE_ONEDNN_OPTS=0`.\n",
      "2023-11-04 14:53:25.649265: E tensorflow/compiler/xla/stream_executor/cuda/cuda_dnn.cc:9342] Unable to register cuDNN factory: Attempting to register factory for plugin cuDNN when one has already been registered\n",
      "2023-11-04 14:53:25.649293: E tensorflow/compiler/xla/stream_executor/cuda/cuda_fft.cc:609] Unable to register cuFFT factory: Attempting to register factory for plugin cuFFT when one has already been registered\n",
      "2023-11-04 14:53:25.650394: E tensorflow/compiler/xla/stream_executor/cuda/cuda_blas.cc:1518] Unable to register cuBLAS factory: Attempting to register factory for plugin cuBLAS when one has already been registered\n",
      "2023-11-04 14:53:25.762777: I tensorflow/core/platform/cpu_feature_guard.cc:182] This TensorFlow binary is optimized to use available CPU instructions in performance-critical operations.\n",
      "To enable the following instructions: AVX2 AVX_VNNI FMA, in other operations, rebuild TensorFlow with the appropriate compiler flags.\n"
     ]
    }
   ],
   "source": [
    "import tensorflow as tf\n",
    "import numpy as np\n",
    "import matplotlib.pyplot as plt\n",
    "import pandas as pd\n",
    "from tensorflow.keras import layers"
   ]
  },
  {
   "cell_type": "markdown",
   "metadata": {
    "id": "cT_gfmyg7wd-"
   },
   "source": [
    "# Part 1 - Inspecting the dataset\n",
    "The dataset that we are going to use is IMDB Dataset of 50K Movie Reviews from Kaggle."
   ]
  },
  {
   "cell_type": "code",
   "execution_count": 2,
   "metadata": {
    "colab": {
     "base_uri": "https://localhost:8080/",
     "height": 206
    },
    "executionInfo": {
     "elapsed": 990,
     "status": "ok",
     "timestamp": 1698835033715,
     "user": {
      "displayName": "עידו שמי",
      "userId": "02903827395113272265"
     },
     "user_tz": -120
    },
    "id": "yvdXoKmG7CZu",
    "outputId": "919998f6-2b25-47d2-a503-32d1c7f5c14e"
   },
   "outputs": [
    {
     "data": {
      "text/html": [
       "<div>\n",
       "<style scoped>\n",
       "    .dataframe tbody tr th:only-of-type {\n",
       "        vertical-align: middle;\n",
       "    }\n",
       "\n",
       "    .dataframe tbody tr th {\n",
       "        vertical-align: top;\n",
       "    }\n",
       "\n",
       "    .dataframe thead th {\n",
       "        text-align: right;\n",
       "    }\n",
       "</style>\n",
       "<table border=\"1\" class=\"dataframe\">\n",
       "  <thead>\n",
       "    <tr style=\"text-align: right;\">\n",
       "      <th></th>\n",
       "      <th>review</th>\n",
       "      <th>sentiment</th>\n",
       "    </tr>\n",
       "  </thead>\n",
       "  <tbody>\n",
       "    <tr>\n",
       "      <th>0</th>\n",
       "      <td>One of the other reviewers has mentioned that ...</td>\n",
       "      <td>positive</td>\n",
       "    </tr>\n",
       "    <tr>\n",
       "      <th>1</th>\n",
       "      <td>A wonderful little production. &lt;br /&gt;&lt;br /&gt;The...</td>\n",
       "      <td>positive</td>\n",
       "    </tr>\n",
       "    <tr>\n",
       "      <th>2</th>\n",
       "      <td>I thought this was a wonderful way to spend ti...</td>\n",
       "      <td>positive</td>\n",
       "    </tr>\n",
       "    <tr>\n",
       "      <th>3</th>\n",
       "      <td>Basically there's a family where a little boy ...</td>\n",
       "      <td>negative</td>\n",
       "    </tr>\n",
       "    <tr>\n",
       "      <th>4</th>\n",
       "      <td>Petter Mattei's \"Love in the Time of Money\" is...</td>\n",
       "      <td>positive</td>\n",
       "    </tr>\n",
       "  </tbody>\n",
       "</table>\n",
       "</div>"
      ],
      "text/plain": [
       "                                              review sentiment\n",
       "0  One of the other reviewers has mentioned that ...  positive\n",
       "1  A wonderful little production. <br /><br />The...  positive\n",
       "2  I thought this was a wonderful way to spend ti...  positive\n",
       "3  Basically there's a family where a little boy ...  negative\n",
       "4  Petter Mattei's \"Love in the Time of Money\" is...  positive"
      ]
     },
     "execution_count": 2,
     "metadata": {},
     "output_type": "execute_result"
    }
   ],
   "source": [
    "dataset = pd.read_csv(\"IMDBDataset.csv\")\n",
    "dataset.head()"
   ]
  },
  {
   "cell_type": "code",
   "execution_count": 3,
   "metadata": {
    "colab": {
     "base_uri": "https://localhost:8080/"
    },
    "executionInfo": {
     "elapsed": 6,
     "status": "ok",
     "timestamp": 1698835033715,
     "user": {
      "displayName": "עידו שמי",
      "userId": "02903827395113272265"
     },
     "user_tz": -120
    },
    "id": "aJLtdFYY8hGC",
    "outputId": "32590e24-7a0b-4a89-cc11-9f501b68126a"
   },
   "outputs": [
    {
     "data": {
      "text/plain": [
       "(50000, 2)"
      ]
     },
     "execution_count": 3,
     "metadata": {},
     "output_type": "execute_result"
    }
   ],
   "source": [
    "dataset.shape"
   ]
  },
  {
   "cell_type": "code",
   "execution_count": 4,
   "metadata": {
    "colab": {
     "base_uri": "https://localhost:8080/"
    },
    "executionInfo": {
     "elapsed": 5,
     "status": "ok",
     "timestamp": 1698835033715,
     "user": {
      "displayName": "עידו שמי",
      "userId": "02903827395113272265"
     },
     "user_tz": -120
    },
    "id": "C0tcYcDr9G3j",
    "outputId": "1be85627-7f86-4a53-c735-bc2905b14334"
   },
   "outputs": [
    {
     "data": {
      "text/plain": [
       "sentiment\n",
       "positive    25000\n",
       "negative    25000\n",
       "Name: count, dtype: int64"
      ]
     },
     "execution_count": 4,
     "metadata": {},
     "output_type": "execute_result"
    }
   ],
   "source": [
    "dataset[\"sentiment\"].value_counts()"
   ]
  },
  {
   "cell_type": "markdown",
   "metadata": {
    "id": "JHSfJBJ09ea9"
   },
   "source": [
    "We need to split the dataset into test and train"
   ]
  },
  {
   "cell_type": "code",
   "execution_count": 5,
   "metadata": {
    "executionInfo": {
     "elapsed": 938,
     "status": "ok",
     "timestamp": 1698835034649,
     "user": {
      "displayName": "עידו שמי",
      "userId": "02903827395113272265"
     },
     "user_tz": -120
    },
    "id": "2e_nSzsH9QL9"
   },
   "outputs": [],
   "source": [
    "from sklearn.model_selection import train_test_split\n",
    "\n",
    "train_lines, test_lines, train_vals, test_vals =  train_test_split(dataset[\"review\"], dataset[\"sentiment\"], test_size=0.2)"
   ]
  },
  {
   "cell_type": "markdown",
   "metadata": {
    "id": "2ey7D5Z4-mJt"
   },
   "source": [
    "now, we will convert the output to onehot encoded because it will be easier for the model to predict it."
   ]
  },
  {
   "cell_type": "code",
   "execution_count": 6,
   "metadata": {
    "colab": {
     "base_uri": "https://localhost:8080/"
    },
    "executionInfo": {
     "elapsed": 7,
     "status": "ok",
     "timestamp": 1698835034649,
     "user": {
      "displayName": "עידו שמי",
      "userId": "02903827395113272265"
     },
     "user_tz": -120
    },
    "id": "D8AX1TTD9381",
    "outputId": "7a6ba381-181d-417e-fc28-7acf68fe86fd"
   },
   "outputs": [
    {
     "name": "stderr",
     "output_type": "stream",
     "text": [
      "/usr/local/lib/python3.11/dist-packages/sklearn/preprocessing/_encoders.py:975: FutureWarning: `sparse` was renamed to `sparse_output` in version 1.2 and will be removed in 1.4. `sparse_output` is ignored unless you leave `sparse` to its default value.\n",
      "  warnings.warn(\n"
     ]
    }
   ],
   "source": [
    "from sklearn.preprocessing import OneHotEncoder\n",
    "\n",
    "one_hot_encoder = OneHotEncoder(sparse=False)\n",
    "train_labels_one_hot = one_hot_encoder.fit_transform(train_vals.to_numpy().reshape(-1, 1))\n",
    "test_labels_one_hot = one_hot_encoder.transform(test_vals.to_numpy().reshape(-1, 1))"
   ]
  },
  {
   "cell_type": "code",
   "execution_count": 7,
   "metadata": {
    "colab": {
     "base_uri": "https://localhost:8080/"
    },
    "executionInfo": {
     "elapsed": 5,
     "status": "ok",
     "timestamp": 1698835034649,
     "user": {
      "displayName": "עידו שמי",
      "userId": "02903827395113272265"
     },
     "user_tz": -120
    },
    "id": "PeD8JKpP-Chq",
    "outputId": "2f54b4c5-7df4-47e0-a5eb-598810a519b2"
   },
   "outputs": [
    {
     "data": {
      "text/plain": [
       "array([[0., 1.],\n",
       "       [1., 0.],\n",
       "       [1., 0.],\n",
       "       ...,\n",
       "       [1., 0.],\n",
       "       [0., 1.],\n",
       "       [1., 0.]])"
      ]
     },
     "execution_count": 7,
     "metadata": {},
     "output_type": "execute_result"
    }
   ],
   "source": [
    "test_labels_one_hot"
   ]
  },
  {
   "cell_type": "markdown",
   "metadata": {
    "id": "wI_PeabX_AbK"
   },
   "source": [
    "we will do the same with label encoding:"
   ]
  },
  {
   "cell_type": "code",
   "execution_count": 8,
   "metadata": {
    "colab": {
     "base_uri": "https://localhost:8080/"
    },
    "executionInfo": {
     "elapsed": 4,
     "status": "ok",
     "timestamp": 1698835034649,
     "user": {
      "displayName": "עידו שמי",
      "userId": "02903827395113272265"
     },
     "user_tz": -120
    },
    "id": "CyMrUU6S-6gp",
    "outputId": "f8d5f39f-0861-40d8-bc4f-9786b325368a"
   },
   "outputs": [
    {
     "data": {
      "text/plain": [
       "array([1, 1, 1, ..., 0, 1, 0])"
      ]
     },
     "execution_count": 8,
     "metadata": {},
     "output_type": "execute_result"
    }
   ],
   "source": [
    "from sklearn.preprocessing import LabelEncoder\n",
    "label_encoder = LabelEncoder()\n",
    "train_labels_encoded = label_encoder.fit_transform(train_vals.to_numpy())\n",
    "test_labels_encoded = label_encoder.transform(test_vals.to_numpy())\n",
    "\n",
    "train_labels_encoded"
   ]
  },
  {
   "cell_type": "code",
   "execution_count": 9,
   "metadata": {
    "colab": {
     "base_uri": "https://localhost:8080/"
    },
    "executionInfo": {
     "elapsed": 4,
     "status": "ok",
     "timestamp": 1698835034649,
     "user": {
      "displayName": "עידו שמי",
      "userId": "02903827395113272265"
     },
     "user_tz": -120
    },
    "id": "RQ-CvCMx_JU-",
    "outputId": "47620cbd-dea1-4047-80b0-6c0c706434de"
   },
   "outputs": [
    {
     "data": {
      "text/plain": [
       "array(['negative', 'positive'], dtype=object)"
      ]
     },
     "execution_count": 9,
     "metadata": {},
     "output_type": "execute_result"
    }
   ],
   "source": [
    "label_encoder.classes_"
   ]
  },
  {
   "cell_type": "markdown",
   "metadata": {
    "id": "XsgcdC9I_d9l"
   },
   "source": [
    "# part 2 - creating experiments"
   ]
  },
  {
   "cell_type": "markdown",
   "metadata": {
    "id": "yDodtSzg_jQ4"
   },
   "source": [
    "## model 0\n",
    "The first model that I will try as a baseline is a naive-bayes model. We will do Tfidf vectorization to the data and then we will process it."
   ]
  },
  {
   "cell_type": "code",
   "execution_count": 10,
   "metadata": {
    "executionInfo": {
     "elapsed": 3,
     "status": "ok",
     "timestamp": 1698835034649,
     "user": {
      "displayName": "עידו שמי",
      "userId": "02903827395113272265"
     },
     "user_tz": -120
    },
    "id": "PqMKEMAXAcBy"
   },
   "outputs": [],
   "source": [
    "train_sentences = train_lines.tolist()\n",
    "test_sentences = test_lines.tolist()"
   ]
  },
  {
   "cell_type": "code",
   "execution_count": 11,
   "metadata": {
    "executionInfo": {
     "elapsed": 2,
     "status": "ok",
     "timestamp": 1698835034649,
     "user": {
      "displayName": "עידו שמי",
      "userId": "02903827395113272265"
     },
     "user_tz": -120
    },
    "id": "sYi56pZj_Tw3"
   },
   "outputs": [],
   "source": [
    "from sklearn.feature_extraction.text import TfidfVectorizer\n",
    "from sklearn.naive_bayes import BernoulliNB\n",
    "from sklearn.pipeline import Pipeline\n",
    "\n",
    "model_0 = Pipeline([\n",
    "    (\"vectorization layer\", TfidfVectorizer()),\n",
    "    (\"BernoulliNB\", BernoulliNB())\n",
    "])"
   ]
  },
  {
   "cell_type": "code",
   "execution_count": 12,
   "metadata": {
    "colab": {
     "base_uri": "https://localhost:8080/",
     "height": 126
    },
    "executionInfo": {
     "elapsed": 18200,
     "status": "ok",
     "timestamp": 1698835052847,
     "user": {
      "displayName": "עידו שמי",
      "userId": "02903827395113272265"
     },
     "user_tz": -120
    },
    "id": "BU6Kd9AjACpA",
    "outputId": "4e6f07d3-b9f8-4b65-aa65-eef1004bef44"
   },
   "outputs": [
    {
     "data": {
      "text/html": [
       "<style>#sk-container-id-1 {color: black;}#sk-container-id-1 pre{padding: 0;}#sk-container-id-1 div.sk-toggleable {background-color: white;}#sk-container-id-1 label.sk-toggleable__label {cursor: pointer;display: block;width: 100%;margin-bottom: 0;padding: 0.3em;box-sizing: border-box;text-align: center;}#sk-container-id-1 label.sk-toggleable__label-arrow:before {content: \"▸\";float: left;margin-right: 0.25em;color: #696969;}#sk-container-id-1 label.sk-toggleable__label-arrow:hover:before {color: black;}#sk-container-id-1 div.sk-estimator:hover label.sk-toggleable__label-arrow:before {color: black;}#sk-container-id-1 div.sk-toggleable__content {max-height: 0;max-width: 0;overflow: hidden;text-align: left;background-color: #f0f8ff;}#sk-container-id-1 div.sk-toggleable__content pre {margin: 0.2em;color: black;border-radius: 0.25em;background-color: #f0f8ff;}#sk-container-id-1 input.sk-toggleable__control:checked~div.sk-toggleable__content {max-height: 200px;max-width: 100%;overflow: auto;}#sk-container-id-1 input.sk-toggleable__control:checked~label.sk-toggleable__label-arrow:before {content: \"▾\";}#sk-container-id-1 div.sk-estimator input.sk-toggleable__control:checked~label.sk-toggleable__label {background-color: #d4ebff;}#sk-container-id-1 div.sk-label input.sk-toggleable__control:checked~label.sk-toggleable__label {background-color: #d4ebff;}#sk-container-id-1 input.sk-hidden--visually {border: 0;clip: rect(1px 1px 1px 1px);clip: rect(1px, 1px, 1px, 1px);height: 1px;margin: -1px;overflow: hidden;padding: 0;position: absolute;width: 1px;}#sk-container-id-1 div.sk-estimator {font-family: monospace;background-color: #f0f8ff;border: 1px dotted black;border-radius: 0.25em;box-sizing: border-box;margin-bottom: 0.5em;}#sk-container-id-1 div.sk-estimator:hover {background-color: #d4ebff;}#sk-container-id-1 div.sk-parallel-item::after {content: \"\";width: 100%;border-bottom: 1px solid gray;flex-grow: 1;}#sk-container-id-1 div.sk-label:hover label.sk-toggleable__label {background-color: #d4ebff;}#sk-container-id-1 div.sk-serial::before {content: \"\";position: absolute;border-left: 1px solid gray;box-sizing: border-box;top: 0;bottom: 0;left: 50%;z-index: 0;}#sk-container-id-1 div.sk-serial {display: flex;flex-direction: column;align-items: center;background-color: white;padding-right: 0.2em;padding-left: 0.2em;position: relative;}#sk-container-id-1 div.sk-item {position: relative;z-index: 1;}#sk-container-id-1 div.sk-parallel {display: flex;align-items: stretch;justify-content: center;background-color: white;position: relative;}#sk-container-id-1 div.sk-item::before, #sk-container-id-1 div.sk-parallel-item::before {content: \"\";position: absolute;border-left: 1px solid gray;box-sizing: border-box;top: 0;bottom: 0;left: 50%;z-index: -1;}#sk-container-id-1 div.sk-parallel-item {display: flex;flex-direction: column;z-index: 1;position: relative;background-color: white;}#sk-container-id-1 div.sk-parallel-item:first-child::after {align-self: flex-end;width: 50%;}#sk-container-id-1 div.sk-parallel-item:last-child::after {align-self: flex-start;width: 50%;}#sk-container-id-1 div.sk-parallel-item:only-child::after {width: 0;}#sk-container-id-1 div.sk-dashed-wrapped {border: 1px dashed gray;margin: 0 0.4em 0.5em 0.4em;box-sizing: border-box;padding-bottom: 0.4em;background-color: white;}#sk-container-id-1 div.sk-label label {font-family: monospace;font-weight: bold;display: inline-block;line-height: 1.2em;}#sk-container-id-1 div.sk-label-container {text-align: center;}#sk-container-id-1 div.sk-container {/* jupyter's `normalize.less` sets `[hidden] { display: none; }` but bootstrap.min.css set `[hidden] { display: none !important; }` so we also need the `!important` here to be able to override the default hidden behavior on the sphinx rendered scikit-learn.org. See: https://github.com/scikit-learn/scikit-learn/issues/21755 */display: inline-block !important;position: relative;}#sk-container-id-1 div.sk-text-repr-fallback {display: none;}</style><div id=\"sk-container-id-1\" class=\"sk-top-container\"><div class=\"sk-text-repr-fallback\"><pre>Pipeline(steps=[(&#x27;vectorization layer&#x27;, TfidfVectorizer()),\n",
       "                (&#x27;BernoulliNB&#x27;, BernoulliNB())])</pre><b>In a Jupyter environment, please rerun this cell to show the HTML representation or trust the notebook. <br />On GitHub, the HTML representation is unable to render, please try loading this page with nbviewer.org.</b></div><div class=\"sk-container\" hidden><div class=\"sk-item sk-dashed-wrapped\"><div class=\"sk-label-container\"><div class=\"sk-label sk-toggleable\"><input class=\"sk-toggleable__control sk-hidden--visually\" id=\"sk-estimator-id-1\" type=\"checkbox\" ><label for=\"sk-estimator-id-1\" class=\"sk-toggleable__label sk-toggleable__label-arrow\">Pipeline</label><div class=\"sk-toggleable__content\"><pre>Pipeline(steps=[(&#x27;vectorization layer&#x27;, TfidfVectorizer()),\n",
       "                (&#x27;BernoulliNB&#x27;, BernoulliNB())])</pre></div></div></div><div class=\"sk-serial\"><div class=\"sk-item\"><div class=\"sk-estimator sk-toggleable\"><input class=\"sk-toggleable__control sk-hidden--visually\" id=\"sk-estimator-id-2\" type=\"checkbox\" ><label for=\"sk-estimator-id-2\" class=\"sk-toggleable__label sk-toggleable__label-arrow\">TfidfVectorizer</label><div class=\"sk-toggleable__content\"><pre>TfidfVectorizer()</pre></div></div></div><div class=\"sk-item\"><div class=\"sk-estimator sk-toggleable\"><input class=\"sk-toggleable__control sk-hidden--visually\" id=\"sk-estimator-id-3\" type=\"checkbox\" ><label for=\"sk-estimator-id-3\" class=\"sk-toggleable__label sk-toggleable__label-arrow\">BernoulliNB</label><div class=\"sk-toggleable__content\"><pre>BernoulliNB()</pre></div></div></div></div></div></div></div>"
      ],
      "text/plain": [
       "Pipeline(steps=[('vectorization layer', TfidfVectorizer()),\n",
       "                ('BernoulliNB', BernoulliNB())])"
      ]
     },
     "execution_count": 12,
     "metadata": {},
     "output_type": "execute_result"
    }
   ],
   "source": [
    "model_0.fit(X=train_sentences,\n",
    "            y=train_labels_encoded)"
   ]
  },
  {
   "cell_type": "code",
   "execution_count": 13,
   "metadata": {
    "colab": {
     "base_uri": "https://localhost:8080/"
    },
    "executionInfo": {
     "elapsed": 4188,
     "status": "ok",
     "timestamp": 1698835057033,
     "user": {
      "displayName": "עידו שמי",
      "userId": "02903827395113272265"
     },
     "user_tz": -120
    },
    "id": "0VN6_HFoANAM",
    "outputId": "92d61157-8644-4229-dfa5-95bfa4dcb1b2"
   },
   "outputs": [
    {
     "data": {
      "text/plain": [
       "0.8535"
      ]
     },
     "execution_count": 13,
     "metadata": {},
     "output_type": "execute_result"
    }
   ],
   "source": [
    "model_0.score(test_sentences, test_labels_encoded)"
   ]
  },
  {
   "cell_type": "code",
   "execution_count": 14,
   "metadata": {
    "colab": {
     "base_uri": "https://localhost:8080/"
    },
    "executionInfo": {
     "elapsed": 6359,
     "status": "ok",
     "timestamp": 1698835063384,
     "user": {
      "displayName": "עידו שמי",
      "userId": "02903827395113272265"
     },
     "user_tz": -120
    },
    "id": "tURxxz59AsZL",
    "outputId": "b5ae269e-bfe5-46b0-c106-84d280541962"
   },
   "outputs": [
    {
     "data": {
      "text/plain": [
       "array([1, 0, 0, ..., 0, 1, 0])"
      ]
     },
     "execution_count": 14,
     "metadata": {},
     "output_type": "execute_result"
    }
   ],
   "source": [
    "baseline_preds = model_0.predict(test_sentences)\n",
    "baseline_preds"
   ]
  },
  {
   "cell_type": "markdown",
   "metadata": {
    "id": "r1jufNe8CEK1"
   },
   "source": [
    "Now, we will use calculate results function to get the different types of error metrics in a list."
   ]
  },
  {
   "cell_type": "code",
   "execution_count": 15,
   "metadata": {
    "executionInfo": {
     "elapsed": 10,
     "status": "ok",
     "timestamp": 1698835063384,
     "user": {
      "displayName": "עידו שמי",
      "userId": "02903827395113272265"
     },
     "user_tz": -120
    },
    "id": "-3sHcJnrCLGs"
   },
   "outputs": [],
   "source": [
    "from sklearn.metrics import accuracy_score, precision_recall_fscore_support\n",
    "\n",
    "def calculate_results(y_true, y_pred):\n",
    "  model_accuracy = accuracy_score(y_true, y_pred) * 100\n",
    "  model_precision, model_recall, model_f1, _ = precision_recall_fscore_support(y_true, y_pred, average=\"weighted\")\n",
    "  model_results = {\"accuracy\": model_accuracy,\n",
    "                  \"precision\": model_precision,\n",
    "                  \"recall\": model_recall,\n",
    "                  \"f1\": model_f1}\n",
    "  return model_results"
   ]
  },
  {
   "cell_type": "code",
   "execution_count": 16,
   "metadata": {
    "colab": {
     "base_uri": "https://localhost:8080/"
    },
    "executionInfo": {
     "elapsed": 10,
     "status": "ok",
     "timestamp": 1698835063384,
     "user": {
      "displayName": "עידו שמי",
      "userId": "02903827395113272265"
     },
     "user_tz": -120
    },
    "id": "HV26SLnvCaWX",
    "outputId": "a6911180-34c7-4f35-cedd-0601434a3e58"
   },
   "outputs": [
    {
     "data": {
      "text/plain": [
       "{'accuracy': 85.35000000000001,\n",
       " 'precision': 0.8550126334391083,\n",
       " 'recall': 0.8535,\n",
       " 'f1': 0.8533963861588729}"
      ]
     },
     "execution_count": 16,
     "metadata": {},
     "output_type": "execute_result"
    }
   ],
   "source": [
    "calculate_results(test_labels_encoded, baseline_preds)"
   ]
  },
  {
   "cell_type": "markdown",
   "metadata": {
    "id": "GVDNdBT7C3nl"
   },
   "source": [
    "Our base model preformed with 85% accuracy. Now, let's try building more complex models. We will use embedding and tokenization, to do that we need to find the mean length of the sentences."
   ]
  },
  {
   "cell_type": "code",
   "execution_count": 17,
   "metadata": {
    "colab": {
     "base_uri": "https://localhost:8080/"
    },
    "executionInfo": {
     "elapsed": 2289,
     "status": "ok",
     "timestamp": 1698835065665,
     "user": {
      "displayName": "עידו שמי",
      "userId": "02903827395113272265"
     },
     "user_tz": -120
    },
    "id": "MpiA_xZsC_Dy",
    "outputId": "2335b192-9866-4fe0-8cfc-375ab655412c"
   },
   "outputs": [
    {
     "data": {
      "text/plain": [
       "231.144975"
      ]
     },
     "execution_count": 17,
     "metadata": {},
     "output_type": "execute_result"
    }
   ],
   "source": [
    "sent_lens = [len(sentence.split()) for sentence in train_sentences]\n",
    "avg_sent_len = np.mean(sent_lens)\n",
    "avg_sent_len"
   ]
  },
  {
   "cell_type": "code",
   "execution_count": 18,
   "metadata": {
    "colab": {
     "base_uri": "https://localhost:8080/",
     "height": 434
    },
    "executionInfo": {
     "elapsed": 1305,
     "status": "ok",
     "timestamp": 1698835066968,
     "user": {
      "displayName": "עידו שמי",
      "userId": "02903827395113272265"
     },
     "user_tz": -120
    },
    "id": "x9rg0xf_Db3V",
    "outputId": "ea2d9659-c657-4ab8-b561-6205f04f251e"
   },
   "outputs": [
    {
     "data": {
      "image/png": "[encoded data removed]",
      "text/plain": [
       "<Figure size 640x480 with 1 Axes>"
      ]
     },
     "metadata": {},
     "output_type": "display_data"
    }
   ],
   "source": [
    "plt.hist(sent_lens, bins=7);"
   ]
  },
  {
   "cell_type": "code",
   "execution_count": 19,
   "metadata": {
    "colab": {
     "base_uri": "https://localhost:8080/"
    },
    "executionInfo": {
     "elapsed": 4,
     "status": "ok",
     "timestamp": 1698835066968,
     "user": {
      "displayName": "עידו שמי",
      "userId": "02903827395113272265"
     },
     "user_tz": -120
    },
    "id": "d6QwhAZTDuk_",
    "outputId": "c4b95025-1fd8-4f05-a9cb-5eda992ae805"
   },
   "outputs": [
    {
     "data": {
      "text/plain": [
       "590"
      ]
     },
     "execution_count": 19,
     "metadata": {},
     "output_type": "execute_result"
    }
   ],
   "source": [
    "output_seq_len = int(np.percentile(sent_lens, 95))\n",
    "output_seq_len"
   ]
  },
  {
   "cell_type": "markdown",
   "metadata": {
    "id": "IJof_7cxD_vl"
   },
   "source": [
    "In the next part we will try to do text vectorization, we don't know the amount of words in the dataset so we will do it without max_tokens."
   ]
  },
  {
   "cell_type": "code",
   "execution_count": 20,
   "metadata": {
    "executionInfo": {
     "elapsed": 2762,
     "status": "ok",
     "timestamp": 1698835069728,
     "user": {
      "displayName": "עידו שמי",
      "userId": "02903827395113272265"
     },
     "user_tz": -120
    },
    "id": "X54qVTYHD2YD"
   },
   "outputs": [
    {
     "name": "stderr",
     "output_type": "stream",
     "text": [
      "2023-11-04 14:53:35.799073: I tensorflow/compiler/xla/stream_executor/cuda/cuda_gpu_executor.cc:880] could not open file to read NUMA node: /sys/bus/pci/devices/0000:01:00.0/numa_node\n",
      "Your kernel may have been built without NUMA support.\n",
      "2023-11-04 14:53:35.822983: I tensorflow/compiler/xla/stream_executor/cuda/cuda_gpu_executor.cc:880] could not open file to read NUMA node: /sys/bus/pci/devices/0000:01:00.0/numa_node\n",
      "Your kernel may have been built without NUMA support.\n",
      "2023-11-04 14:53:35.823017: I tensorflow/compiler/xla/stream_executor/cuda/cuda_gpu_executor.cc:880] could not open file to read NUMA node: /sys/bus/pci/devices/0000:01:00.0/numa_node\n",
      "Your kernel may have been built without NUMA support.\n",
      "2023-11-04 14:53:35.825610: I tensorflow/compiler/xla/stream_executor/cuda/cuda_gpu_executor.cc:880] could not open file to read NUMA node: /sys/bus/pci/devices/0000:01:00.0/numa_node\n",
      "Your kernel may have been built without NUMA support.\n",
      "2023-11-04 14:53:35.825640: I tensorflow/compiler/xla/stream_executor/cuda/cuda_gpu_executor.cc:880] could not open file to read NUMA node: /sys/bus/pci/devices/0000:01:00.0/numa_node\n",
      "Your kernel may have been built without NUMA support.\n",
      "2023-11-04 14:53:35.825650: I tensorflow/compiler/xla/stream_executor/cuda/cuda_gpu_executor.cc:880] could not open file to read NUMA node: /sys/bus/pci/devices/0000:01:00.0/numa_node\n",
      "Your kernel may have been built without NUMA support.\n",
      "2023-11-04 14:53:37.053355: I tensorflow/compiler/xla/stream_executor/cuda/cuda_gpu_executor.cc:880] could not open file to read NUMA node: /sys/bus/pci/devices/0000:01:00.0/numa_node\n",
      "Your kernel may have been built without NUMA support.\n",
      "2023-11-04 14:53:37.053612: I tensorflow/compiler/xla/stream_executor/cuda/cuda_gpu_executor.cc:880] could not open file to read NUMA node: /sys/bus/pci/devices/0000:01:00.0/numa_node\n",
      "Your kernel may have been built without NUMA support.\n",
      "2023-11-04 14:53:37.053626: I tensorflow/core/common_runtime/gpu/gpu_device.cc:1977] Could not identify NUMA node of platform GPU id 0, defaulting to 0.  Your kernel may not have been built with NUMA support.\n",
      "2023-11-04 14:53:37.053903: I tensorflow/compiler/xla/stream_executor/cuda/cuda_gpu_executor.cc:880] could not open file to read NUMA node: /sys/bus/pci/devices/0000:01:00.0/numa_node\n",
      "Your kernel may have been built without NUMA support.\n",
      "2023-11-04 14:53:37.054031: I tensorflow/core/common_runtime/gpu/gpu_device.cc:1886] Created device /job:localhost/replica:0/task:0/device:GPU:0 with 5420 MB memory:  -> device: 0, name: NVIDIA GeForce RTX 3060 Ti, pci bus id: 0000:01:00.0, compute capability: 8.6\n"
     ]
    }
   ],
   "source": [
    "from tensorflow.keras.layers import TextVectorization\n",
    "\n",
    "text_vectorizer = TextVectorization(max_tokens=None,\n",
    "                                    output_sequence_length=590)"
   ]
  },
  {
   "cell_type": "code",
   "execution_count": 21,
   "metadata": {
    "executionInfo": {
     "elapsed": 9098,
     "status": "ok",
     "timestamp": 1698835078824,
     "user": {
      "displayName": "עידו שמי",
      "userId": "02903827395113272265"
     },
     "user_tz": -120
    },
    "id": "jJ6yoGDWExND"
   },
   "outputs": [],
   "source": [
    "text_vectorizer.adapt(train_sentences)"
   ]
  },
  {
   "cell_type": "code",
   "execution_count": 22,
   "metadata": {
    "colab": {
     "base_uri": "https://localhost:8080/"
    },
    "executionInfo": {
     "elapsed": 1410,
     "status": "ok",
     "timestamp": 1698835080225,
     "user": {
      "displayName": "עידו שמי",
      "userId": "02903827395113272265"
     },
     "user_tz": -120
    },
    "id": "icDoeTkEE064",
    "outputId": "23d4cddf-f7f9-4312-8516-5672e5242eb1"
   },
   "outputs": [
    {
     "name": "stdout",
     "output_type": "stream",
     "text": [
      "Text:\n",
      "This movie was awful! Ashley Rose Orr, while a talented tap dancer, and singer (actually a little better than Temple was in terms of the latter), is a terrible actress. She plays the character as the Shirley that we saw on screen in her movies whether she's playing her onscreen or offscreen persona. So what we get is an overly cutesy, and wholly unrealistic (not to mention uninteresting) portrait. If one wants to see that side of her, one can just rent one of her movies. The only bright light here is Connie Britton's portrayal of Gertrude Temple. I don't think it was terribly realistic, but at least it was well acted. Save yourself the trouble and rent The Poor Little Rich Girl.\n",
      "\n",
      "Length of text: 123\n",
      "\n",
      "Vectorized text:\n",
      "[[    11     18     14    378   6467   2240  29780    134      4   1044\n",
      "    5365   3625      3   1862    155      4    117    124     73   4197\n",
      "      14      8   1226      5      2   1580      7      4    376    537\n",
      "      58    283      2    110     15      2   4252     12     71    202\n",
      "      21    285      8     42     92    707    450    385     42   4062\n",
      "      41   6780   3674     38     49     71     75      7     34   2134\n",
      "   12474      3   5497   2126     22      6    706   2764   3098     44\n",
      "      29    476      6     65     12    502      5     42     29     68\n",
      "      40    830     29      5     42     92      2     62   1924    718\n",
      "     136      7  10840 149349   1114      5  13185   4197     10     89\n",
      "     103      9     14   1888    809     19     31    219      9     14\n",
      "      74    975    566    626      2   1111      3    830      2    328\n",
      "     117    995    253      0      0      0      0      0      0      0\n",
      "       0      0      0      0      0      0      0      0      0      0\n",
      "       0      0      0      0      0      0      0      0      0      0\n",
      "       0      0      0      0      0      0      0      0      0      0\n",
      "       0      0      0      0      0      0      0      0      0      0\n",
      "       0      0      0      0      0      0      0      0      0      0\n",
      "       0      0      0      0      0      0      0      0      0      0\n",
      "       0      0      0      0      0      0      0      0      0      0\n",
      "       0      0      0      0      0      0      0      0      0      0\n",
      "       0      0      0      0      0      0      0      0      0      0\n",
      "       0      0      0      0      0      0      0      0      0      0\n",
      "       0      0      0      0      0      0      0      0      0      0\n",
      "       0      0      0      0      0      0      0      0      0      0\n",
      "       0      0      0      0      0      0      0      0      0      0\n",
      "       0      0      0      0      0      0      0      0      0      0\n",
      "       0      0      0      0      0      0      0      0      0      0\n",
      "       0      0      0      0      0      0      0      0      0      0\n",
      "       0      0      0      0      0      0      0      0      0      0\n",
      "       0      0      0      0      0      0      0      0      0      0\n",
      "       0      0      0      0      0      0      0      0      0      0\n",
      "       0      0      0      0      0      0      0      0      0      0\n",
      "       0      0      0      0      0      0      0      0      0      0\n",
      "       0      0      0      0      0      0      0      0      0      0\n",
      "       0      0      0      0      0      0      0      0      0      0\n",
      "       0      0      0      0      0      0      0      0      0      0\n",
      "       0      0      0      0      0      0      0      0      0      0\n",
      "       0      0      0      0      0      0      0      0      0      0\n",
      "       0      0      0      0      0      0      0      0      0      0\n",
      "       0      0      0      0      0      0      0      0      0      0\n",
      "       0      0      0      0      0      0      0      0      0      0\n",
      "       0      0      0      0      0      0      0      0      0      0\n",
      "       0      0      0      0      0      0      0      0      0      0\n",
      "       0      0      0      0      0      0      0      0      0      0\n",
      "       0      0      0      0      0      0      0      0      0      0\n",
      "       0      0      0      0      0      0      0      0      0      0\n",
      "       0      0      0      0      0      0      0      0      0      0\n",
      "       0      0      0      0      0      0      0      0      0      0\n",
      "       0      0      0      0      0      0      0      0      0      0\n",
      "       0      0      0      0      0      0      0      0      0      0\n",
      "       0      0      0      0      0      0      0      0      0      0\n",
      "       0      0      0      0      0      0      0      0      0      0\n",
      "       0      0      0      0      0      0      0      0      0      0\n",
      "       0      0      0      0      0      0      0      0      0      0\n",
      "       0      0      0      0      0      0      0      0      0      0\n",
      "       0      0      0      0      0      0      0      0      0      0\n",
      "       0      0      0      0      0      0      0      0      0      0\n",
      "       0      0      0      0      0      0      0      0      0      0]]\n"
     ]
    }
   ],
   "source": [
    "import random\n",
    "target_sentence = random.choice(train_sentences)\n",
    "print(f\"Text:\\n{target_sentence}\")\n",
    "print(f\"\\nLength of text: {len(target_sentence.split())}\")\n",
    "print(f\"\\nVectorized text:\\n{text_vectorizer([target_sentence])}\")"
   ]
  },
  {
   "cell_type": "code",
   "execution_count": 23,
   "metadata": {
    "colab": {
     "base_uri": "https://localhost:8080/"
    },
    "executionInfo": {
     "elapsed": 393,
     "status": "ok",
     "timestamp": 1698835080616,
     "user": {
      "displayName": "עידו שמי",
      "userId": "02903827395113272265"
     },
     "user_tz": -120
    },
    "id": "RqT2DGS0FG6e",
    "outputId": "a4af29a1-3694-490d-927b-620ca57aa891"
   },
   "outputs": [
    {
     "name": "stdout",
     "output_type": "stream",
     "text": [
      "Number of words in vocabulary: 160780\n",
      "Most common words in the vocabulary: ['', '[UNK]', 'the', 'and', 'a']\n",
      "Least common words in the vocabulary: ['0010', '00000110', '00000001', '0000000000001', '\\x10own']\n"
     ]
    }
   ],
   "source": [
    "text_vocab = text_vectorizer.get_vocabulary()\n",
    "print(f\"Number of words in vocabulary: {len(text_vocab)}\"),\n",
    "print(f\"Most common words in the vocabulary: {text_vocab[:5]}\")\n",
    "print(f\"Least common words in the vocabulary: {text_vocab[-5:]}\")"
   ]
  },
  {
   "cell_type": "markdown",
   "metadata": {
    "id": "m64qb0W9FTfa"
   },
   "source": [
    "Now we will create embedding layer."
   ]
  },
  {
   "cell_type": "code",
   "execution_count": 24,
   "metadata": {
    "colab": {
     "base_uri": "https://localhost:8080/"
    },
    "executionInfo": {
     "elapsed": 3,
     "status": "ok",
     "timestamp": 1698835080616,
     "user": {
      "displayName": "עידו שמי",
      "userId": "02903827395113272265"
     },
     "user_tz": -120
    },
    "id": "qsGPrTvEFMdN",
    "outputId": "45009144-361a-46fe-bd35-fbd29a6f8218"
   },
   "outputs": [
    {
     "name": "stdout",
     "output_type": "stream",
     "text": [
      "Sentence before vectorization:\n",
      "This movie was awful! Ashley Rose Orr, while a talented tap dancer, and singer (actually a little better than Temple was in terms of the latter), is a terrible actress. She plays the character as the Shirley that we saw on screen in her movies whether she's playing her onscreen or offscreen persona. So what we get is an overly cutesy, and wholly unrealistic (not to mention uninteresting) portrait. If one wants to see that side of her, one can just rent one of her movies. The only bright light here is Connie Britton's portrayal of Gertrude Temple. I don't think it was terribly realistic, but at least it was well acted. Save yourself the trouble and rent The Poor Little Rich Girl.\n",
      "\n",
      "Sentence after vectorization (before embedding):\n",
      "[[    11     18     14    378   6467   2240  29780    134      4   1044\n",
      "    5365   3625      3   1862    155      4    117    124     73   4197\n",
      "      14      8   1226      5      2   1580      7      4    376    537\n",
      "      58    283      2    110     15      2   4252     12     71    202\n",
      "      21    285      8     42     92    707    450    385     42   4062\n",
      "      41   6780   3674     38     49     71     75      7     34   2134\n",
      "   12474      3   5497   2126     22      6    706   2764   3098     44\n",
      "      29    476      6     65     12    502      5     42     29     68\n",
      "      40    830     29      5     42     92      2     62   1924    718\n",
      "     136      7  10840 149349   1114      5  13185   4197     10     89\n",
      "     103      9     14   1888    809     19     31    219      9     14\n",
      "      74    975    566    626      2   1111      3    830      2    328\n",
      "     117    995    253      0      0      0      0      0      0      0\n",
      "       0      0      0      0      0      0      0      0      0      0\n",
      "       0      0      0      0      0      0      0      0      0      0\n",
      "       0      0      0      0      0      0      0      0      0      0\n",
      "       0      0      0      0      0      0      0      0      0      0\n",
      "       0      0      0      0      0      0      0      0      0      0\n",
      "       0      0      0      0      0      0      0      0      0      0\n",
      "       0      0      0      0      0      0      0      0      0      0\n",
      "       0      0      0      0      0      0      0      0      0      0\n",
      "       0      0      0      0      0      0      0      0      0      0\n",
      "       0      0      0      0      0      0      0      0      0      0\n",
      "       0      0      0      0      0      0      0      0      0      0\n",
      "       0      0      0      0      0      0      0      0      0      0\n",
      "       0      0      0      0      0      0      0      0      0      0\n",
      "       0      0      0      0      0      0      0      0      0      0\n",
      "       0      0      0      0      0      0      0      0      0      0\n",
      "       0      0      0      0      0      0      0      0      0      0\n",
      "       0      0      0      0      0      0      0      0      0      0\n",
      "       0      0      0      0      0      0      0      0      0      0\n",
      "       0      0      0      0      0      0      0      0      0      0\n",
      "       0      0      0      0      0      0      0      0      0      0\n",
      "       0      0      0      0      0      0      0      0      0      0\n",
      "       0      0      0      0      0      0      0      0      0      0\n",
      "       0      0      0      0      0      0      0      0      0      0\n",
      "       0      0      0      0      0      0      0      0      0      0\n",
      "       0      0      0      0      0      0      0      0      0      0\n",
      "       0      0      0      0      0      0      0      0      0      0\n",
      "       0      0      0      0      0      0      0      0      0      0\n",
      "       0      0      0      0      0      0      0      0      0      0\n",
      "       0      0      0      0      0      0      0      0      0      0\n",
      "       0      0      0      0      0      0      0      0      0      0\n",
      "       0      0      0      0      0      0      0      0      0      0\n",
      "       0      0      0      0      0      0      0      0      0      0\n",
      "       0      0      0      0      0      0      0      0      0      0\n",
      "       0      0      0      0      0      0      0      0      0      0\n",
      "       0      0      0      0      0      0      0      0      0      0\n",
      "       0      0      0      0      0      0      0      0      0      0\n",
      "       0      0      0      0      0      0      0      0      0      0\n",
      "       0      0      0      0      0      0      0      0      0      0\n",
      "       0      0      0      0      0      0      0      0      0      0\n",
      "       0      0      0      0      0      0      0      0      0      0\n",
      "       0      0      0      0      0      0      0      0      0      0\n",
      "       0      0      0      0      0      0      0      0      0      0\n",
      "       0      0      0      0      0      0      0      0      0      0\n",
      "       0      0      0      0      0      0      0      0      0      0\n",
      "       0      0      0      0      0      0      0      0      0      0\n",
      "       0      0      0      0      0      0      0      0      0      0]]\n",
      "\n",
      "Sentence after embedding:\n",
      "[[[ 0.04499091  0.02093785  0.02601713 ... -0.04674147 -0.03365984\n",
      "    0.02830346]\n",
      "  [ 0.00219738 -0.04497213  0.02547241 ...  0.03034374 -0.00225355\n",
      "    0.00683542]\n",
      "  [ 0.00514219  0.04396215 -0.00749979 ... -0.04635346  0.01524747\n",
      "    0.00615307]\n",
      "  ...\n",
      "  [-0.01365881 -0.01760735 -0.01295738 ... -0.01185254 -0.02951174\n",
      "    0.0335609 ]\n",
      "  [-0.01365881 -0.01760735 -0.01295738 ... -0.01185254 -0.02951174\n",
      "    0.0335609 ]\n",
      "  [-0.01365881 -0.01760735 -0.01295738 ... -0.01185254 -0.02951174\n",
      "    0.0335609 ]]]\n",
      "\n",
      "Embedded sentence shape: (1, 590, 128)\n"
     ]
    }
   ],
   "source": [
    "# Create token embedding layer\n",
    "token_embed = layers.Embedding(input_dim=len(text_vocab),\n",
    "                               output_dim=128,\n",
    "                               mask_zero=True,\n",
    "                               name=\"token_embedding\")\n",
    "\n",
    "# Show example embedding\n",
    "print(f\"Sentence before vectorization:\\n{target_sentence}\\n\")\n",
    "vectorized_sentence = text_vectorizer([target_sentence])\n",
    "print(f\"Sentence after vectorization (before embedding):\\n{vectorized_sentence}\\n\")\n",
    "embedded_sentence = token_embed(vectorized_sentence)\n",
    "print(f\"Sentence after embedding:\\n{embedded_sentence}\\n\")\n",
    "print(f\"Embedded sentence shape: {embedded_sentence.shape}\")"
   ]
  },
  {
   "cell_type": "markdown",
   "metadata": {
    "id": "b8bJhbVnFi11"
   },
   "source": [
    "After embedding we will create dataset and make it into batches."
   ]
  },
  {
   "cell_type": "code",
   "execution_count": 25,
   "metadata": {
    "colab": {
     "base_uri": "https://localhost:8080/"
    },
    "executionInfo": {
     "elapsed": 790,
     "status": "ok",
     "timestamp": 1698835081404,
     "user": {
      "displayName": "עידו שמי",
      "userId": "02903827395113272265"
     },
     "user_tz": -120
    },
    "id": "K-6e5FrLFflv",
    "outputId": "5494eb75-d2ac-45e0-d651-c0c7f3e34aad"
   },
   "outputs": [
    {
     "data": {
      "text/plain": [
       "<_TensorSliceDataset element_spec=(TensorSpec(shape=(), dtype=tf.string, name=None), TensorSpec(shape=(2,), dtype=tf.float64, name=None))>"
      ]
     },
     "execution_count": 25,
     "metadata": {},
     "output_type": "execute_result"
    }
   ],
   "source": [
    "# Turn our data into TensorFlow Datasets\n",
    "train_dataset = tf.data.Dataset.from_tensor_slices((train_sentences, train_labels_one_hot))\n",
    "test_dataset = tf.data.Dataset.from_tensor_slices((test_sentences, test_labels_one_hot))\n",
    "\n",
    "train_dataset"
   ]
  },
  {
   "cell_type": "code",
   "execution_count": 26,
   "metadata": {
    "colab": {
     "base_uri": "https://localhost:8080/"
    },
    "executionInfo": {
     "elapsed": 3,
     "status": "ok",
     "timestamp": 1698835081404,
     "user": {
      "displayName": "עידו שמי",
      "userId": "02903827395113272265"
     },
     "user_tz": -120
    },
    "id": "pIi78vecFpfV",
    "outputId": "dcd04dea-c73f-439d-9a39-d038f061ee61"
   },
   "outputs": [
    {
     "data": {
      "text/plain": [
       "<_PrefetchDataset element_spec=(TensorSpec(shape=(None,), dtype=tf.string, name=None), TensorSpec(shape=(None, 2), dtype=tf.float64, name=None))>"
      ]
     },
     "execution_count": 26,
     "metadata": {},
     "output_type": "execute_result"
    }
   ],
   "source": [
    "train_dataset = train_dataset.batch(32).prefetch(tf.data.AUTOTUNE)\n",
    "test_dataset = test_dataset.batch(32).prefetch(tf.data.AUTOTUNE)\n",
    "\n",
    "train_dataset"
   ]
  },
  {
   "cell_type": "markdown",
   "metadata": {
    "id": "Q1OED5YuFvT6"
   },
   "source": [
    "## Model 1 - Conv1d with embedding."
   ]
  },
  {
   "cell_type": "code",
   "execution_count": 27,
   "metadata": {
    "executionInfo": {
     "elapsed": 410,
     "status": "ok",
     "timestamp": 1698835081813,
     "user": {
      "displayName": "עידו שמי",
      "userId": "02903827395113272265"
     },
     "user_tz": -120
    },
    "id": "dCSm0r4nFtYU"
   },
   "outputs": [],
   "source": [
    "inputs = layers.Input(shape=(1,), dtype=tf.string)\n",
    "text_vectors = text_vectorizer(inputs)\n",
    "text_embedded = token_embed(text_vectors)\n",
    "x = layers.Conv1D(64, kernel_size=5, padding=\"same\", activation=\"relu\")(text_embedded)\n",
    "x= layers.GlobalMaxPooling1D()(x)\n",
    "outputs = layers.Dense(2, activation=\"softmax\")(x)\n",
    "model_1 = tf.keras.Model(inputs, outputs)\n",
    "\n",
    "model_1.compile(loss=\"binary_crossentropy\",\n",
    "                optimizer=tf.keras.optimizers.Adam(),\n",
    "                metrics=[\"accuracy\"])\n"
   ]
  },
  {
   "cell_type": "code",
   "execution_count": 28,
   "metadata": {
    "colab": {
     "base_uri": "https://localhost:8080/"
    },
    "executionInfo": {
     "elapsed": 6,
     "status": "ok",
     "timestamp": 1698835081813,
     "user": {
      "displayName": "עידו שמי",
      "userId": "02903827395113272265"
     },
     "user_tz": -120
    },
    "id": "dTO-HCktGs2O",
    "outputId": "87774c16-fb63-421b-e100-e0dfdc61e380"
   },
   "outputs": [
    {
     "name": "stdout",
     "output_type": "stream",
     "text": [
      "Model: \"model\"\n",
      "_________________________________________________________________\n",
      " Layer (type)                Output Shape              Param #   \n",
      "=================================================================\n",
      " input_1 (InputLayer)        [(None, 1)]               0         \n",
      "                                                                 \n",
      " text_vectorization (TextVe  (None, 590)               0         \n",
      " ctorization)                                                    \n",
      "                                                                 \n",
      " token_embedding (Embedding  (None, 590, 128)          20579840  \n",
      " )                                                               \n",
      "                                                                 \n",
      " conv1d (Conv1D)             (None, 590, 64)           41024     \n",
      "                                                                 \n",
      " global_max_pooling1d (Glob  (None, 64)                0         \n",
      " alMaxPooling1D)                                                 \n",
      "                                                                 \n",
      " dense (Dense)               (None, 2)                 130       \n",
      "                                                                 \n",
      "=================================================================\n",
      "Total params: 20620994 (78.66 MB)\n",
      "Trainable params: 20620994 (78.66 MB)\n",
      "Non-trainable params: 0 (0.00 Byte)\n",
      "_________________________________________________________________\n"
     ]
    }
   ],
   "source": [
    "model_1.summary()\n"
   ]
  },
  {
   "cell_type": "code",
   "execution_count": 29,
   "metadata": {
    "colab": {
     "base_uri": "https://localhost:8080/"
    },
    "executionInfo": {
     "elapsed": 48715,
     "status": "ok",
     "timestamp": 1698835130525,
     "user": {
      "displayName": "עידו שמי",
      "userId": "02903827395113272265"
     },
     "user_tz": -120
    },
    "id": "NY6fRGkOGxDm",
    "outputId": "e8d7f206-44ca-4dd9-dac4-c9cc3acf2be4"
   },
   "outputs": [
    {
     "name": "stdout",
     "output_type": "stream",
     "text": [
      "Epoch 1/3\n"
     ]
    },
    {
     "name": "stderr",
     "output_type": "stream",
     "text": [
      "2023-11-04 14:53:54.826592: I tensorflow/compiler/xla/stream_executor/cuda/cuda_dnn.cc:442] Loaded cuDNN version 8600\n",
      "2023-11-04 14:53:57.220642: I tensorflow/compiler/xla/service/service.cc:168] XLA service 0x7f35b41d8950 initialized for platform CUDA (this does not guarantee that XLA will be used). Devices:\n",
      "2023-11-04 14:53:57.220697: I tensorflow/compiler/xla/service/service.cc:176]   StreamExecutor device (0): NVIDIA GeForce RTX 3060 Ti, Compute Capability 8.6\n",
      "2023-11-04 14:53:57.232549: I tensorflow/compiler/mlir/tensorflow/utils/dump_mlir_util.cc:269] disabling MLIR crash reproducer, set env var `MLIR_CRASH_REPRODUCER_DIRECTORY` to enable.\n",
      "2023-11-04 14:53:57.340208: I ./tensorflow/compiler/jit/device_compiler.h:186] Compiled cluster using XLA!  This line is logged at most once for the lifetime of the process.\n"
     ]
    },
    {
     "name": "stdout",
     "output_type": "stream",
     "text": [
      "125/125 [==============================] - 16s 77ms/step - loss: 0.6581 - accuracy: 0.6497 - val_loss: 0.5676 - val_accuracy: 0.7419\n",
      "Epoch 2/3\n",
      "125/125 [==============================] - 8s 68ms/step - loss: 0.4907 - accuracy: 0.7750 - val_loss: 0.4268 - val_accuracy: 0.8095\n",
      "Epoch 3/3\n",
      "125/125 [==============================] - 7s 53ms/step - loss: 0.4000 - accuracy: 0.8225 - val_loss: 0.3892 - val_accuracy: 0.8266\n"
     ]
    }
   ],
   "source": [
    "model_1_history = model_1.fit(train_dataset,\n",
    "                              steps_per_epoch=int(0.1 * len(train_dataset)), # only fit on 10% of batches for faster training time\n",
    "                              epochs=3,\n",
    "                              validation_data=test_dataset,\n",
    "                              validation_steps=int(0.1 * len(test_dataset)))"
   ]
  },
  {
   "cell_type": "code",
   "execution_count": 30,
   "metadata": {
    "colab": {
     "base_uri": "https://localhost:8080/"
    },
    "executionInfo": {
     "elapsed": 2126,
     "status": "ok",
     "timestamp": 1698835132641,
     "user": {
      "displayName": "עידו שמי",
      "userId": "02903827395113272265"
     },
     "user_tz": -120
    },
    "id": "IHeLeQ4_HBRz",
    "outputId": "3057707a-8267-4152-b7b3-116de0218d34"
   },
   "outputs": [
    {
     "name": "stdout",
     "output_type": "stream",
     "text": [
      "313/313 [==============================] - 2s 5ms/step - loss: 0.3797 - accuracy: 0.8322\n"
     ]
    },
    {
     "data": {
      "text/plain": [
       "[0.3796714246273041, 0.8321999907493591]"
      ]
     },
     "execution_count": 30,
     "metadata": {},
     "output_type": "execute_result"
    }
   ],
   "source": [
    "model_1.evaluate(test_dataset)"
   ]
  },
  {
   "cell_type": "code",
   "execution_count": 31,
   "metadata": {
    "colab": {
     "base_uri": "https://localhost:8080/"
    },
    "executionInfo": {
     "elapsed": 1845,
     "status": "ok",
     "timestamp": 1698835134482,
     "user": {
      "displayName": "עידו שמי",
      "userId": "02903827395113272265"
     },
     "user_tz": -120
    },
    "id": "BC3Mqa-HHQdg",
    "outputId": "0c9ac590-af6f-41a8-c29a-f87f08391af2"
   },
   "outputs": [
    {
     "name": "stdout",
     "output_type": "stream",
     "text": [
      "313/313 [==============================] - 1s 4ms/step\n"
     ]
    },
    {
     "data": {
      "text/plain": [
       "array([[5.8054965e-04, 9.9941945e-01],\n",
       "       [9.5379519e-01, 4.6204761e-02],\n",
       "       [9.3620044e-01, 6.3799530e-02],\n",
       "       ...,\n",
       "       [9.9379998e-01, 6.1999727e-03],\n",
       "       [4.2373684e-01, 5.7626319e-01],\n",
       "       [9.9514318e-01, 4.8568086e-03]], dtype=float32)"
      ]
     },
     "execution_count": 31,
     "metadata": {},
     "output_type": "execute_result"
    }
   ],
   "source": [
    "model_1_pred_probs = model_1.predict(test_dataset)\n",
    "model_1_pred_probs"
   ]
  },
  {
   "cell_type": "code",
   "execution_count": 32,
   "metadata": {
    "colab": {
     "base_uri": "https://localhost:8080/"
    },
    "executionInfo": {
     "elapsed": 4,
     "status": "ok",
     "timestamp": 1698835134482,
     "user": {
      "displayName": "עידו שמי",
      "userId": "02903827395113272265"
     },
     "user_tz": -120
    },
    "id": "AD0yuSaMHU5P",
    "outputId": "fbecd2e5-1bbe-4f22-f9a2-4ed79a5bff2e"
   },
   "outputs": [
    {
     "data": {
      "text/plain": [
       "<tf.Tensor: shape=(10000,), dtype=int64, numpy=array([1, 0, 0, ..., 0, 1, 0])>"
      ]
     },
     "execution_count": 32,
     "metadata": {},
     "output_type": "execute_result"
    }
   ],
   "source": [
    "model_1_preds = tf.argmax(model_1_pred_probs, axis=1)\n",
    "model_1_preds"
   ]
  },
  {
   "cell_type": "code",
   "execution_count": 33,
   "metadata": {
    "colab": {
     "base_uri": "https://localhost:8080/"
    },
    "executionInfo": {
     "elapsed": 3,
     "status": "ok",
     "timestamp": 1698835134483,
     "user": {
      "displayName": "עידו שמי",
      "userId": "02903827395113272265"
     },
     "user_tz": -120
    },
    "id": "Tu9PjFhoHcZZ",
    "outputId": "a19e3660-48e0-4a22-f057-d1a59608132c"
   },
   "outputs": [
    {
     "data": {
      "text/plain": [
       "{'accuracy': 83.22,\n",
       " 'precision': 0.8371680214169231,\n",
       " 'recall': 0.8322,\n",
       " 'f1': 0.8316966874562574}"
      ]
     },
     "execution_count": 33,
     "metadata": {},
     "output_type": "execute_result"
    }
   ],
   "source": [
    "model_1_results = calculate_results(y_true=test_labels_encoded,\n",
    "                                    y_pred=model_1_preds)\n",
    "model_1_results"
   ]
  },
  {
   "cell_type": "markdown",
   "metadata": {
    "id": "hzPKB_XzHjDz"
   },
   "source": [
    "model_1 is pretty much the same as model 0."
   ]
  },
  {
   "cell_type": "markdown",
   "metadata": {
    "id": "wGGpG8ClHnTU"
   },
   "source": [
    "## Model 2 - using pretrained embedding. using universal language embedding model."
   ]
  },
  {
   "cell_type": "code",
   "execution_count": 34,
   "metadata": {
    "executionInfo": {
     "elapsed": 17055,
     "status": "ok",
     "timestamp": 1698835151536,
     "user": {
      "displayName": "עידו שמי",
      "userId": "02903827395113272265"
     },
     "user_tz": -120
    },
    "id": "AxqbG65YHcq5"
   },
   "outputs": [],
   "source": [
    "import tensorflow_hub as hub\n",
    "tf_hub_embedding_layer = hub.KerasLayer(\"https://tfhub.dev/google/universal-sentence-encoder/4\",\n",
    "                                        trainable=False,\n",
    "                                        name=\"universal_sentence_encoder\")"
   ]
  },
  {
   "cell_type": "code",
   "execution_count": 35,
   "metadata": {
    "executionInfo": {
     "elapsed": 644,
     "status": "ok",
     "timestamp": 1698835152170,
     "user": {
      "displayName": "עידו שמי",
      "userId": "02903827395113272265"
     },
     "user_tz": -120
    },
    "id": "kFB3uUrLH2Dy"
   },
   "outputs": [],
   "source": [
    "inputs = layers.Input(shape=[], dtype=tf.string)\n",
    "pretrained_embedding = tf_hub_embedding_layer(inputs)# tokenize text and create embedding\n",
    "x = layers.Dense(128, activation=\"relu\")(pretrained_embedding)\n",
    "outputs = layers.Dense(2, activation=\"softmax\")(x)\n",
    "model_2 = tf.keras.Model(inputs=inputs,\n",
    "                        outputs=outputs)\n",
    "\n",
    "# Compile the model\n",
    "model_2.compile(loss=\"binary_crossentropy\",\n",
    "                optimizer=tf.keras.optimizers.Adam(),\n",
    "                metrics=[\"accuracy\"])"
   ]
  },
  {
   "cell_type": "code",
   "execution_count": 36,
   "metadata": {
    "colab": {
     "base_uri": "https://localhost:8080/"
    },
    "executionInfo": {
     "elapsed": 44287,
     "status": "ok",
     "timestamp": 1698835196455,
     "user": {
      "displayName": "עידו שמי",
      "userId": "02903827395113272265"
     },
     "user_tz": -120
    },
    "id": "19uVszM1IBs5",
    "outputId": "14fdc2fb-dc42-4160-b7aa-7e063e2a0564"
   },
   "outputs": [
    {
     "name": "stdout",
     "output_type": "stream",
     "text": [
      "Epoch 1/3\n",
      "125/125 [==============================] - 8s 39ms/step - loss: 0.5242 - accuracy: 0.7860 - val_loss: 0.3912 - val_accuracy: 0.8367\n",
      "Epoch 2/3\n",
      "125/125 [==============================] - 5s 39ms/step - loss: 0.3531 - accuracy: 0.8472 - val_loss: 0.3405 - val_accuracy: 0.8478\n",
      "Epoch 3/3\n",
      "125/125 [==============================] - 4s 35ms/step - loss: 0.3453 - accuracy: 0.8482 - val_loss: 0.3451 - val_accuracy: 0.8387\n"
     ]
    },
    {
     "data": {
      "text/plain": [
       "<keras.src.callbacks.History at 0x7f366f65eb50>"
      ]
     },
     "execution_count": 36,
     "metadata": {},
     "output_type": "execute_result"
    }
   ],
   "source": [
    "model_2.fit(train_dataset,\n",
    "            steps_per_epoch=int(0.1 * len(train_dataset)),\n",
    "            epochs=3,\n",
    "            validation_data=test_dataset,\n",
    "            validation_steps=int(0.1 * len(test_dataset)))"
   ]
  },
  {
   "cell_type": "code",
   "execution_count": 37,
   "metadata": {
    "colab": {
     "base_uri": "https://localhost:8080/"
    },
    "executionInfo": {
     "elapsed": 13110,
     "status": "ok",
     "timestamp": 1698835209563,
     "user": {
      "displayName": "עידו שמי",
      "userId": "02903827395113272265"
     },
     "user_tz": -120
    },
    "id": "UkG0OaI6IG8j",
    "outputId": "556f75df-4478-4226-b9a5-35e6dd0d5dfd"
   },
   "outputs": [
    {
     "name": "stdout",
     "output_type": "stream",
     "text": [
      "313/313 [==============================] - 8s 26ms/step\n"
     ]
    },
    {
     "data": {
      "text/plain": [
       "array([[1.1587660e-03, 9.9884123e-01],\n",
       "       [9.2579991e-01, 7.4200079e-02],\n",
       "       [9.5530176e-01, 4.4698235e-02],\n",
       "       ...,\n",
       "       [9.9987411e-01, 1.2588646e-04],\n",
       "       [6.4051777e-02, 9.3594819e-01],\n",
       "       [9.9484032e-01, 5.1596225e-03]], dtype=float32)"
      ]
     },
     "execution_count": 37,
     "metadata": {},
     "output_type": "execute_result"
    }
   ],
   "source": [
    "model_2_pred_probs = model_2.predict(test_dataset)\n",
    "model_2_pred_probs"
   ]
  },
  {
   "cell_type": "code",
   "execution_count": 38,
   "metadata": {
    "colab": {
     "base_uri": "https://localhost:8080/"
    },
    "executionInfo": {
     "elapsed": 19,
     "status": "ok",
     "timestamp": 1698835209563,
     "user": {
      "displayName": "עידו שמי",
      "userId": "02903827395113272265"
     },
     "user_tz": -120
    },
    "id": "9ZlHZ3x-ITqK",
    "outputId": "835066a9-94fe-4fb5-b993-fe310cac5e34"
   },
   "outputs": [
    {
     "data": {
      "text/plain": [
       "<tf.Tensor: shape=(10000,), dtype=int64, numpy=array([1, 0, 0, ..., 0, 1, 0])>"
      ]
     },
     "execution_count": 38,
     "metadata": {},
     "output_type": "execute_result"
    }
   ],
   "source": [
    "model_2_preds = tf.argmax(model_2_pred_probs, axis=1)\n",
    "model_2_preds"
   ]
  },
  {
   "cell_type": "code",
   "execution_count": 39,
   "metadata": {
    "colab": {
     "base_uri": "https://localhost:8080/"
    },
    "executionInfo": {
     "elapsed": 17,
     "status": "ok",
     "timestamp": 1698835209563,
     "user": {
      "displayName": "עידו שמי",
      "userId": "02903827395113272265"
     },
     "user_tz": -120
    },
    "id": "z2FkbwgTIVdq",
    "outputId": "79dfbab5-ca16-4b92-b052-4cdd66da5252"
   },
   "outputs": [
    {
     "data": {
      "text/plain": [
       "{'accuracy': 84.44,\n",
       " 'precision': 0.847630485860341,\n",
       " 'recall': 0.8444,\n",
       " 'f1': 0.8441219874685747}"
      ]
     },
     "execution_count": 39,
     "metadata": {},
     "output_type": "execute_result"
    }
   ],
   "source": [
    "model_2_results = calculate_results(y_true=test_labels_encoded,\n",
    "                                    y_pred=model_2_preds)\n",
    "model_2_results"
   ]
  },
  {
   "cell_type": "markdown",
   "metadata": {
    "id": "P4t_jCDwqO3s"
   },
   "source": [
    "## Model 3 - trying to use character embedding"
   ]
  },
  {
   "cell_type": "code",
   "execution_count": 40,
   "metadata": {
    "colab": {
     "base_uri": "https://localhost:8080/",
     "height": 35
    },
    "executionInfo": {
     "elapsed": 15,
     "status": "ok",
     "timestamp": 1698835209563,
     "user": {
      "displayName": "עידו שמי",
      "userId": "02903827395113272265"
     },
     "user_tz": -120
    },
    "id": "3Buj1kTlqSVp",
    "outputId": "533dcc9a-89fd-4d42-8968-b14eec6f6b94"
   },
   "outputs": [
    {
     "data": {
      "text/plain": [
       "'abcdefghijklmnopqrstuvwxyz0123456789!\"#$%&\\'()*+,-./:;<=>?@[\\\\]^_`{|}~'"
      ]
     },
     "execution_count": 40,
     "metadata": {},
     "output_type": "execute_result"
    }
   ],
   "source": [
    "import string\n",
    "alphabet = string.ascii_lowercase + string.digits + string.punctuation\n",
    "alphabet"
   ]
  },
  {
   "cell_type": "code",
   "execution_count": 41,
   "metadata": {
    "colab": {
     "base_uri": "https://localhost:8080/"
    },
    "executionInfo": {
     "elapsed": 7,
     "status": "ok",
     "timestamp": 1698835209563,
     "user": {
      "displayName": "עידו שמי",
      "userId": "02903827395113272265"
     },
     "user_tz": -120
    },
    "id": "1vL2K1tZyq56",
    "outputId": "3772ca80-9488-42f2-9e0b-6941400e9705"
   },
   "outputs": [
    {
     "data": {
      "text/plain": [
       "68"
      ]
     },
     "execution_count": 41,
     "metadata": {},
     "output_type": "execute_result"
    }
   ],
   "source": [
    "len(alphabet)"
   ]
  },
  {
   "cell_type": "markdown",
   "metadata": {
    "id": "2ZOPCZyxKF0T"
   },
   "source": [
    "We also need to try, character vectorization + word embedding.\n",
    "also try, complex model including bidirectional lstm layer and dropout\n",
    "also uploading to tensorboard and examine the models ina"
   ]
  },
  {
   "cell_type": "code",
   "execution_count": 42,
   "metadata": {
    "colab": {
     "base_uri": "https://localhost:8080/",
     "height": 53
    },
    "executionInfo": {
     "elapsed": 7,
     "status": "ok",
     "timestamp": 1698835209564,
     "user": {
      "displayName": "עידו שמי",
      "userId": "02903827395113272265"
     },
     "user_tz": -120
    },
    "id": "tAgNPkRxKJ32",
    "outputId": "818e4333-0489-40b8-ac55-baddb1dc0896"
   },
   "outputs": [
    {
     "data": {
      "text/plain": [
       "'I   f i r s t   s a w   t h i s   f i l m   o n   c a b l e   i n   t h e   8 0 \\' s   a n d   i t   r o c k e d   m e   t o   t h e   c o r e .   I t   s h o w e d   u p   a g a i n   o n   T V   a b o u t   s i x   m o n t h s   a g o . < b r   / > < b r   / > F i l m e d   o n   l o c a t i o n ,   t h e   b l a c k   a n d   w h i t e   c i n e m a t o g r a p h y   g r a p h i c a l l y   p o r t r a y s   1 9 5 0 \\' s   N e w   Y o r k   a s   t h e   g r i t t y   \" u r b a n   j u n g l e \"   a t   a   t i m e   w h e n   t h e r e   w a s   f a r   m o r e   i n d u s t r y   a n d   p o r t   a c t i v i t y   i n   t h e   c i t y ,   p a r t i c u l a r l y   i n   M a n h a t t a n . < b r   / > < b r   / > J o h n   C a s s a v e t e s   a l w a y s   b r o u g h t   a   s p e c i a l   i n t e n s i t y   t o   h i s   a c t i n g ,   a n d   i s   m a g n i f i c e n t   i n   t h e   r o l e   o f   t h e   a r m y   d o d g e r .   H i s   b r i e f   1 9 5 9   T V   s e r i e s   \" J o h n n y   S t a c c a t o \"   i s   a l s o   a   j o y   t o   w a t c h . < b r   / > < b r   / > S i d n e y   P o i t i e r   a n d   ( l a t e r   i n   t h e   f i l m )   R u b y   D e e   b r i n g   f r e s h n e s s   a n d   v i t a l i t y   t o   t h e i r   r o l e s .   B u t   i t   i s   J a c k   W a r d e n \\' s   s u p e r b   a c t i n g   a s   t h e   v i c i o u s ,   b r u t a l   s h i f t   b o s s   t h a t   g r a b b e d   m y   a t t e n t i o n .   T o   g e t   a n   i d e a   o f   W a r d e n \\' s   v e r s a t i l i t y ,   w a t c h   t h i s   f i l m ,   t h e n   c h e c k   o u t   a   1 9 6 2   e p i s o d e   o f   t h e   T V   s e r i e s   \" N a k e d   C i t y \"   e n t i t l e d   \" S p e c t e r   o f   t h e   R o s e   S t r e e t   G a n g   ( a v a i l a b l e   o n   v i d e o ) . \"   I f   y o u   a r e   a   f a n   o f   f i l m   n o i r ,   t h i s   i s   a   m u s t   s e e .   E n j o y !'"
      ]
     },
     "execution_count": 42,
     "metadata": {},
     "output_type": "execute_result"
    }
   ],
   "source": [
    "def split_chars(text):\n",
    "  return \" \".join(list(text))\n",
    "\n",
    "random_sentence = random.sample(train_sentences,1)\n",
    "split_chars(random_sentence[0])"
   ]
  },
  {
   "cell_type": "code",
   "execution_count": 43,
   "metadata": {
    "colab": {
     "base_uri": "https://localhost:8080/"
    },
    "executionInfo": {
     "elapsed": 1450,
     "status": "ok",
     "timestamp": 1698835211007,
     "user": {
      "displayName": "עידו שמי",
      "userId": "02903827395113272265"
     },
     "user_tz": -120
    },
    "id": "0eKcM5UyrA27",
    "outputId": "73522f2f-e5e4-414f-88eb-a53e01977194"
   },
   "outputs": [
    {
     "name": "stdout",
     "output_type": "stream",
     "text": [
      "F o r g e t   t h e   j a d e d   c o m m e n t s   t h a t   c o m e   b e f o r e   t h e s e .   T h i s   i s   a n   a c t i o n   p a c k e d   b u t   s e n s i t i v e   m o v i e   a b o u t   p e o p l e   w h o   o v e r c o m e   r e a l   p r o b l e m s   i n   a   b e a u t i f u l   s e t t i n g .   W e l l - a c t e d ,   e v e n   b y   E l i z a b e t h   B e r k l e y .   R e c o m m e n d e d   f o r   a n y o n e   w h o   w a n t s   t o   f e e l   s o m e t h i n g   a n d   e x p e r i e n c e   c h a n g e .\n"
     ]
    }
   ],
   "source": [
    "train_chars2 = [split_chars(sentence) for sentence in train_sentences]\n",
    "test_chars = [split_chars(sentence) for sentence in test_sentences]\n",
    "print(train_chars2[0])"
   ]
  },
  {
   "cell_type": "markdown",
   "metadata": {
    "id": "zIt0cbLvrkVH"
   },
   "source": [
    "now we need to find the average amount of characters in a sentence."
   ]
  },
  {
   "cell_type": "code",
   "execution_count": 44,
   "metadata": {
    "colab": {
     "base_uri": "https://localhost:8080/"
    },
    "executionInfo": {
     "elapsed": 5,
     "status": "ok",
     "timestamp": 1698835211007,
     "user": {
      "displayName": "עידו שמי",
      "userId": "02903827395113272265"
     },
     "user_tz": -120
    },
    "id": "ihamT8DHrhD7",
    "outputId": "0c40be5a-21cc-41d7-c570-0d6108754d24"
   },
   "outputs": [
    {
     "data": {
      "text/plain": [
       "1309.5317"
      ]
     },
     "execution_count": 44,
     "metadata": {},
     "output_type": "execute_result"
    }
   ],
   "source": [
    "char_lens = [len(sentence) for sentence in train_sentences]\n",
    "mean_char_len = np.mean(char_lens)\n",
    "mean_char_len"
   ]
  },
  {
   "cell_type": "code",
   "execution_count": 45,
   "metadata": {
    "colab": {
     "base_uri": "https://localhost:8080/",
     "height": 430
    },
    "executionInfo": {
     "elapsed": 385,
     "status": "ok",
     "timestamp": 1698835211388,
     "user": {
      "displayName": "עידו שמי",
      "userId": "02903827395113272265"
     },
     "user_tz": -120
    },
    "id": "SvXyCsgBryuT",
    "outputId": "4d7eeaff-601b-457e-a02f-a3ad44bc69be"
   },
   "outputs": [
    {
     "data": {
      "image/png": "[encoded data removed]",
      "text/plain": [
       "<Figure size 640x480 with 1 Axes>"
      ]
     },
     "metadata": {},
     "output_type": "display_data"
    }
   ],
   "source": [
    "plt.hist(char_lens, bins=7);"
   ]
  },
  {
   "cell_type": "code",
   "execution_count": 46,
   "metadata": {
    "colab": {
     "base_uri": "https://localhost:8080/"
    },
    "executionInfo": {
     "elapsed": 385,
     "status": "ok",
     "timestamp": 1698835211389,
     "user": {
      "displayName": "עידו שמי",
      "userId": "02903827395113272265"
     },
     "user_tz": -120
    },
    "id": "bOF6e1GHr1Br",
    "outputId": "abb9e93d-332b-41e6-f465-5c3520f5184f"
   },
   "outputs": [
    {
     "data": {
      "text/plain": [
       "3389"
      ]
     },
     "execution_count": 46,
     "metadata": {},
     "output_type": "execute_result"
    }
   ],
   "source": [
    "output_seq_char_len = int(np.percentile(char_lens, 95))\n",
    "output_seq_char_len"
   ]
  },
  {
   "cell_type": "code",
   "execution_count": 47,
   "metadata": {},
   "outputs": [],
   "source": [
    "NUM_CHAR_TOKENS = len(alphabet) + 2 # num characters in alphabet + space + OOV token\n",
    "from tensorflow.keras.layers import TextVectorization\n",
    "\n",
    "char_vectorizer2 = TextVectorization(max_tokens=70,\n",
    "                                    output_sequence_length=500,\n",
    "                                    standardize=\"lower_and_strip_punctuation\")"
   ]
  },
  {
   "cell_type": "code",
   "execution_count": 48,
   "metadata": {},
   "outputs": [],
   "source": [
    "# char_vectorizer2.adapt(train_chars2)\n",
    "\n",
    "# The model is keep crashing after this and I am stuck on this for a few days so I will skip this for now."
   ]
  },
  {
   "cell_type": "markdown",
   "metadata": {},
   "source": [
    "## Model 4 - more complex model\n",
    "Now I will try implementing a more complex model using bidirectional lstm and dropout layers."
   ]
  },
  {
   "cell_type": "code",
   "execution_count": 49,
   "metadata": {},
   "outputs": [],
   "source": [
    "inputs = layers.Input(shape=[], dtype=tf.string)\n",
    "pretrained_embedding = tf_hub_embedding_layer(inputs)# tokenize text and create embedding\n",
    "x = layers.Dense(64, activation=\"relu\")(pretrained_embedding)\n",
    "x = layers.Dropout(0.5)(x)\n",
    "x = layers.Dense(64, activation=\"relu\")(x)\n",
    "outputs = layers.Dense(2, activation=\"softmax\")(x)\n",
    "model_4 = tf.keras.Model(inputs=inputs,\n",
    "                        outputs=outputs)\n",
    "\n",
    "# Compile the model\n",
    "model_4.compile(loss=\"binary_crossentropy\",\n",
    "                optimizer=tf.keras.optimizers.Adam(),\n",
    "                metrics=[\"accuracy\"])"
   ]
  },
  {
   "cell_type": "code",
   "execution_count": 50,
   "metadata": {},
   "outputs": [
    {
     "name": "stdout",
     "output_type": "stream",
     "text": [
      "Epoch 1/3\n",
      "125/125 [==============================] - 7s 43ms/step - loss: 0.5578 - accuracy: 0.7440 - val_loss: 0.3872 - val_accuracy: 0.8327\n",
      "Epoch 2/3\n",
      "125/125 [==============================] - 4s 35ms/step - loss: 0.3674 - accuracy: 0.8385 - val_loss: 0.3345 - val_accuracy: 0.8498\n",
      "Epoch 3/3\n",
      "125/125 [==============================] - 5s 36ms/step - loss: 0.3634 - accuracy: 0.8407 - val_loss: 0.3496 - val_accuracy: 0.8387\n"
     ]
    },
    {
     "data": {
      "text/plain": [
       "<keras.src.callbacks.History at 0x7f35a55faad0>"
      ]
     },
     "execution_count": 50,
     "metadata": {},
     "output_type": "execute_result"
    }
   ],
   "source": [
    "model_4.fit(train_dataset,\n",
    "            steps_per_epoch=int(0.1 * len(train_dataset)),\n",
    "            epochs=3,\n",
    "            validation_data=test_dataset,\n",
    "            validation_steps=int(0.1 * len(test_dataset)))"
   ]
  },
  {
   "cell_type": "code",
   "execution_count": 51,
   "metadata": {},
   "outputs": [
    {
     "name": "stdout",
     "output_type": "stream",
     "text": [
      "313/313 [==============================] - 9s 28ms/step\n"
     ]
    },
    {
     "data": {
      "text/plain": [
       "array([[5.5896682e-03, 9.9441034e-01],\n",
       "       [9.2079824e-01, 7.9201736e-02],\n",
       "       [9.1156000e-01, 8.8440001e-02],\n",
       "       ...,\n",
       "       [9.9956685e-01, 4.3309070e-04],\n",
       "       [4.7784686e-02, 9.5221525e-01],\n",
       "       [9.9400640e-01, 5.9935795e-03]], dtype=float32)"
      ]
     },
     "execution_count": 51,
     "metadata": {},
     "output_type": "execute_result"
    }
   ],
   "source": [
    "model_4_pred_probs = model_4.predict(test_dataset)\n",
    "model_4_pred_probs"
   ]
  },
  {
   "cell_type": "code",
   "execution_count": 52,
   "metadata": {},
   "outputs": [
    {
     "data": {
      "text/plain": [
       "<tf.Tensor: shape=(10000,), dtype=int64, numpy=array([1, 0, 0, ..., 0, 1, 0])>"
      ]
     },
     "execution_count": 52,
     "metadata": {},
     "output_type": "execute_result"
    }
   ],
   "source": [
    "model_4_preds = tf.argmax(model_4_pred_probs, axis=1)\n",
    "model_4_preds"
   ]
  },
  {
   "cell_type": "code",
   "execution_count": 53,
   "metadata": {},
   "outputs": [
    {
     "data": {
      "text/plain": [
       "{'accuracy': 84.23,\n",
       " 'precision': 0.8463258306592836,\n",
       " 'recall': 0.8423,\n",
       " 'f1': 0.8419364206619977}"
      ]
     },
     "execution_count": 53,
     "metadata": {},
     "output_type": "execute_result"
    }
   ],
   "source": [
    "model_4_results = calculate_results(y_true=test_labels_encoded,\n",
    "                                    y_pred=model_4_preds)\n",
    "model_4_results"
   ]
  },
  {
   "cell_type": "markdown",
   "metadata": {},
   "source": [
    "# Conclusion\n",
    "All the models were pretty close to each other. \n",
    "We will use the last model in the next part."
   ]
  },
  {
   "cell_type": "code",
   "execution_count": 54,
   "metadata": {},
   "outputs": [
    {
     "name": "stderr",
     "output_type": "stream",
     "text": [
      "/usr/local/lib/python3.11/dist-packages/keras/src/engine/training.py:3079: UserWarning: You are saving your model as an HDF5 file via `model.save()`. This file format is considered legacy. We recommend using instead the native Keras format, e.g. `model.save('my_model.keras')`.\n",
      "  saving_api.save_model(\n"
     ]
    }
   ],
   "source": [
    "# Saving the model\n",
    "model_4.save(\"IMDB_model.h5\")"
   ]
  }
 ],
 "metadata": {
  "accelerator": "GPU",
  "colab": {
   "authorship_tag": "ABX9TyPv7XcYlh8VpSSHxAzxnY3A",
   "gpuType": "T4",
   "mount_file_id": "19tOrCbQHeSvmcujR6GEZfMJNLv0oV4OW",
   "provenance": []
  },
  "kernelspec": {
   "display_name": "Python 3 (ipykernel)",
   "language": "python",
   "name": "python3"
  },
  "language_info": {
   "codemirror_mode": {
    "name": "ipython",
    "version": 3
   },
   "file_extension": ".py",
   "mimetype": "text/x-python",
   "name": "python",
   "nbconvert_exporter": "python",
   "pygments_lexer": "ipython3",
   "version": "3.11.0rc1"
  }
 },
 "nbformat": 4,
 "nbformat_minor": 4
}
